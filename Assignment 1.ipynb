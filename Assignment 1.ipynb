{
 "cells": [
  {
   "cell_type": "markdown",
   "id": "2dc3f8e6",
   "metadata": {},
   "source": [
    "# Question 1 \n",
    "Write the python code which prompts the user for a number and outputs twice the entered number"
   ]
  },
  {
   "cell_type": "code",
   "execution_count": 1,
   "id": "1e68419f",
   "metadata": {},
   "outputs": [
    {
     "name": "stdout",
     "output_type": "stream",
     "text": [
      "Enter a number:4.6\n"
     ]
    },
    {
     "data": {
      "text/plain": [
       "9.2"
      ]
     },
     "execution_count": 1,
     "metadata": {},
     "output_type": "execute_result"
    }
   ],
   "source": [
    "# Define twice function\n",
    "def twice(x):\n",
    "    y = 2*x\n",
    "    return y\n",
    "x= float((input(\"Enter a number:\")))\n",
    "twice(x)"
   ]
  },
  {
   "cell_type": "markdown",
   "id": "abe7d68c",
   "metadata": {},
   "source": [
    "# Question 2\n",
    "Write the python code which prompts the user for their name.  Output their name in all capitol letters."
   ]
  },
  {
   "cell_type": "code",
   "execution_count": 2,
   "id": "6b307678",
   "metadata": {},
   "outputs": [
    {
     "name": "stdout",
     "output_type": "stream",
     "text": [
      "Enter your name:ntandoyenkosi\n"
     ]
    },
    {
     "data": {
      "text/plain": [
       "'NTANDOYENKOSI'"
      ]
     },
     "execution_count": 2,
     "metadata": {},
     "output_type": "execute_result"
    }
   ],
   "source": [
    "# Upper ase function\n",
    "def upper(x):\n",
    "    y = x.upper()\n",
    "    return y\n",
    "x = input(\"Enter your name:\")\n",
    "upper(x)"
   ]
  },
  {
   "cell_type": "markdown",
   "id": "2d82e365",
   "metadata": {},
   "source": [
    "# Question 3\n",
    "Write the python code which prompts the user for 2 positive integers which are passed to a function which calculates and prints the first number divided by the second number and the remainder."
   ]
  },
  {
   "cell_type": "code",
   "execution_count": 3,
   "id": "26bc00aa",
   "metadata": {},
   "outputs": [
    {
     "name": "stdout",
     "output_type": "stream",
     "text": [
      "Enter the first number:4\n",
      "Enter the second number:2\n",
      "After division the answer is 2.0 the remainder is 0.0\n"
     ]
    }
   ],
   "source": [
    "# Division and remainder function\n",
    "def division_remainder(x, y):\n",
    "    z = x/ y\n",
    "    a = x % y\n",
    "    print(\"After division the answer is {} the remainder is {}\".format(z, a))\n",
    "\n",
    "x = float((input(\"Enter the first number:\")))\n",
    "y = float((input(\"Enter the second number:\")))\n",
    "division_remainder(x, y)"
   ]
  },
  {
   "cell_type": "markdown",
   "id": "25d1af43",
   "metadata": {},
   "source": [
    "# Question 4\n",
    "Write the python code which selects a random number between 1 and 10 once.  Prompt the user for input until they guess the random number. Print congratulation once they guess it."
   ]
  },
  {
   "cell_type": "code",
   "execution_count": 5,
   "id": "88f186bb",
   "metadata": {},
   "outputs": [
    {
     "name": "stdout",
     "output_type": "stream",
     "text": [
      "Enter a number:3\n",
      "The number I guessed is 3\n",
      "Wow!, congratulations thats the number I guessed\n"
     ]
    }
   ],
   "source": [
    "# Random number quessing Example 1\n",
    "import random # import package\n",
    "def random_gen(x):\n",
    "    j = random.randint(1, 10)\n",
    "    print(\"The number I guessed is {}\".format(j))\n",
    "    if x == j:\n",
    "        print(\"Wow!, congratulations thats the number I guessed\")\n",
    "    else:\n",
    "        print(\"We slected different values, Please try again\")\n",
    "x = float((input(\"Enter a number:\")))\n",
    "random_gen(x)"
   ]
  },
  {
   "cell_type": "markdown",
   "id": "26609179",
   "metadata": {},
   "source": [
    "# Question 5\n",
    "Write the python code which prompts the user to guess a random number such that each time the user guesses, a new random number is chosen."
   ]
  },
  {
   "cell_type": "code",
   "execution_count": 6,
   "id": "12a2af6e",
   "metadata": {},
   "outputs": [
    {
     "name": "stdout",
     "output_type": "stream",
     "text": [
      "Enter a number:5\n",
      "New number gussed is 10\n"
     ]
    }
   ],
   "source": [
    "# Random number quessing Example 2\n",
    "import random\n",
    "def random_gen(x):\n",
    "    j = random.randint(1, 10)\n",
    "    if x < 11:\n",
    "        z = random.randint(1, 10)\n",
    "        print(\"New number gussed is {}\".format(z))\n",
    "    else:\n",
    "        print(\"Sorry number is out of range\")\n",
    "x = float((input(\"Enter a number:\")))\n",
    "random_gen(x)"
   ]
  },
  {
   "cell_type": "code",
   "execution_count": null,
   "id": "892b5d92",
   "metadata": {},
   "outputs": [],
   "source": []
  }
 ],
 "metadata": {
  "kernelspec": {
   "display_name": "Python 3",
   "language": "python",
   "name": "python3"
  },
  "language_info": {
   "codemirror_mode": {
    "name": "ipython",
    "version": 3
   },
   "file_extension": ".py",
   "mimetype": "text/x-python",
   "name": "python",
   "nbconvert_exporter": "python",
   "pygments_lexer": "ipython3",
   "version": "3.8.5"
  }
 },
 "nbformat": 4,
 "nbformat_minor": 5
}
